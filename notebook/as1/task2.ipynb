{
 "cells": [
  {
   "cell_type": "code",
   "execution_count": null,
   "id": "31ed3d79-6353-48dd-a902-faeff08ae743",
   "metadata": {},
   "outputs": [],
   "source": []
  }
 ],
 "metadata": {
  "kernelspec": {
   "display_name": "",
   "name": ""
  },
  "language_info": {
   "name": ""
  }
 },
 "nbformat": 4,
 "nbformat_minor": 5
}
