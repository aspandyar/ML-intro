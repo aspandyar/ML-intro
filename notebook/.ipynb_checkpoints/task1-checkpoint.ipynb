{
 "cells": [
  {
   "cell_type": "markdown",
   "id": "0138f1f0-7313-461e-9cdf-72941906aefe",
   "metadata": {},
   "source": [
    "### **Understanding Data Preprocessing & Constraints**"
   ]
  },
  {
   "cell_type": "markdown",
   "id": "85188dd7-385a-4ac3-a46c-1407a6cf0a58",
   "metadata": {},
   "source": [
    "#### *Getting dataframe form dataset*"
   ]
  },
  {
   "cell_type": "code",
   "execution_count": 1,
   "id": "17a19fb8-a834-40a6-8bcf-2f6f20b30991",
   "metadata": {
    "ExecuteTime": {
     "end_time": "2024-09-15T11:43:10.257981Z",
     "start_time": "2024-09-15T11:43:10.253550Z"
    }
   },
   "outputs": [],
   "source": [
    "import pandas as pd"
   ]
  },
  {
   "cell_type": "code",
   "execution_count": 2,
   "id": "2026e1b8-e3c2-4633-920a-5dc1d0c25d22",
   "metadata": {
    "scrolled": true
   },
   "outputs": [
    {
     "data": {
      "text/html": [
       "<div>\n",
       "<style scoped>\n",
       "    .dataframe tbody tr th:only-of-type {\n",
       "        vertical-align: middle;\n",
       "    }\n",
       "\n",
       "    .dataframe tbody tr th {\n",
       "        vertical-align: top;\n",
       "    }\n",
       "\n",
       "    .dataframe thead th {\n",
       "        text-align: right;\n",
       "    }\n",
       "</style>\n",
       "<table border=\"1\" class=\"dataframe\">\n",
       "  <thead>\n",
       "    <tr style=\"text-align: right;\">\n",
       "      <th></th>\n",
       "      <th>name</th>\n",
       "      <th>age</th>\n",
       "      <th>city</th>\n",
       "      <th>temperature_F</th>\n",
       "      <th>income</th>\n",
       "      <th>date</th>\n",
       "    </tr>\n",
       "  </thead>\n",
       "  <tbody>\n",
       "    <tr>\n",
       "      <th>0</th>\n",
       "      <td>Alice</td>\n",
       "      <td>25</td>\n",
       "      <td>New York</td>\n",
       "      <td>95.0</td>\n",
       "      <td>55000.0</td>\n",
       "      <td>2021-06-15</td>\n",
       "    </tr>\n",
       "    <tr>\n",
       "      <th>1</th>\n",
       "      <td>Bob</td>\n",
       "      <td>thirty</td>\n",
       "      <td>Los Angeles</td>\n",
       "      <td>102.0</td>\n",
       "      <td>60000.0</td>\n",
       "      <td>15/06/2021</td>\n",
       "    </tr>\n",
       "    <tr>\n",
       "      <th>2</th>\n",
       "      <td>Carol</td>\n",
       "      <td>35</td>\n",
       "      <td>new york</td>\n",
       "      <td>89.0</td>\n",
       "      <td>NaN</td>\n",
       "      <td>2021/06/16</td>\n",
       "    </tr>\n",
       "    <tr>\n",
       "      <th>3</th>\n",
       "      <td>bob</td>\n",
       "      <td>40</td>\n",
       "      <td>Chicago</td>\n",
       "      <td>78.0</td>\n",
       "      <td>70000.0</td>\n",
       "      <td>06-17-2021</td>\n",
       "    </tr>\n",
       "    <tr>\n",
       "      <th>4</th>\n",
       "      <td>Alice</td>\n",
       "      <td>1000</td>\n",
       "      <td>Chicago</td>\n",
       "      <td>84.0</td>\n",
       "      <td>45000.0</td>\n",
       "      <td>NaN</td>\n",
       "    </tr>\n",
       "    <tr>\n",
       "      <th>5</th>\n",
       "      <td>Eve</td>\n",
       "      <td>29</td>\n",
       "      <td>Boston</td>\n",
       "      <td>98.0</td>\n",
       "      <td>50000.0</td>\n",
       "      <td>2021-06-19</td>\n",
       "    </tr>\n",
       "    <tr>\n",
       "      <th>6</th>\n",
       "      <td>NaN</td>\n",
       "      <td>NaN</td>\n",
       "      <td>Boston</td>\n",
       "      <td>NaN</td>\n",
       "      <td>NaN</td>\n",
       "      <td>2021-06-20</td>\n",
       "    </tr>\n",
       "    <tr>\n",
       "      <th>7</th>\n",
       "      <td>Bob</td>\n",
       "      <td>thirty</td>\n",
       "      <td>Los Angeles</td>\n",
       "      <td>102.0</td>\n",
       "      <td>60000.0</td>\n",
       "      <td>15/06/2021</td>\n",
       "    </tr>\n",
       "  </tbody>\n",
       "</table>\n",
       "</div>"
      ],
      "text/plain": [
       "    name     age         city  temperature_F   income        date\n",
       "0  Alice      25     New York           95.0  55000.0  2021-06-15\n",
       "1    Bob  thirty  Los Angeles          102.0  60000.0  15/06/2021\n",
       "2  Carol      35     new york           89.0      NaN  2021/06/16\n",
       "3    bob      40      Chicago           78.0  70000.0  06-17-2021\n",
       "4  Alice    1000      Chicago           84.0  45000.0         NaN\n",
       "5    Eve      29       Boston           98.0  50000.0  2021-06-19\n",
       "6    NaN     NaN       Boston            NaN      NaN  2021-06-20\n",
       "7    Bob  thirty  Los Angeles          102.0  60000.0  15/06/2021"
      ]
     },
     "execution_count": 2,
     "metadata": {},
     "output_type": "execute_result"
    }
   ],
   "source": [
    "df = pd.read_csv(\"../data/dataset_task1.csv\") # read the csv \n",
    "before_df = df.copy()\n",
    "df # print df"
   ]
  },
  {
   "cell_type": "code",
   "execution_count": 3,
   "id": "48ed29d8-bb8c-48a4-8c50-d55b235f200b",
   "metadata": {},
   "outputs": [
    {
     "data": {
      "text/plain": [
       "name              object\n",
       "age               object\n",
       "city              object\n",
       "temperature_F    float64\n",
       "income           float64\n",
       "date              object\n",
       "dtype: object"
      ]
     },
     "execution_count": 3,
     "metadata": {},
     "output_type": "execute_result"
    }
   ],
   "source": [
    "df.dtypes # list current datatypes of columns"
   ]
  },
  {
   "cell_type": "markdown",
   "id": "348b4c4d-5db2-414c-8ee0-1e25c4afb822",
   "metadata": {},
   "source": [
    "#### First, we start work with **name column**, we change all NaN (Not a Number) cells to *Anonymous* name, and capitalize first letter + lowercase others (if present)"
   ]
  },
  {
   "cell_type": "code",
   "execution_count": 4,
   "id": "3114818d-867b-4d03-afef-5e2f112eb9b1",
   "metadata": {},
   "outputs": [
    {
     "data": {
      "text/plain": [
       "0        Alice\n",
       "1          Bob\n",
       "2        Carol\n",
       "3          Bob\n",
       "4        Alice\n",
       "5          Eve\n",
       "6    Anonymous\n",
       "7          Bob\n",
       "Name: name, dtype: object"
      ]
     },
     "execution_count": 4,
     "metadata": {},
     "output_type": "execute_result"
    }
   ],
   "source": [
    "df.name = df.name.fillna(\"Anonymous\")\n",
    "df.name = df.name.str.capitalize()\n",
    "df.name = df.name.where(df.name.apply(lambda x: not isinstance(x, str) or len(x) <= 30), pd.NA) # Check for max len using \"apply\" and \"where\"\n",
    "df.name"
   ]
  },
  {
   "cell_type": "markdown",
   "id": "7828a5d2-7ad5-44e9-acb9-7d673ffbb28f",
   "metadata": {},
   "source": [
    "#### As we have multiple columns in age, which have \"word\" numbers, we should convert them to number, before change dtype of column. To do it, I used a simple python lib: `word2number`, which would do it. Also I used a lamda expresion to convert any columns, which would be str"
   ]
  },
  {
   "cell_type": "code",
   "execution_count": 5,
   "id": "8d7b7cef-b344-4954-8052-6489442958fd",
   "metadata": {},
   "outputs": [],
   "source": [
    "from word2number import w2n"
   ]
  },
  {
   "cell_type": "code",
   "execution_count": 6,
   "id": "400fa61d-e546-4216-8f63-38623c2c5ff6",
   "metadata": {},
   "outputs": [
    {
     "data": {
      "text/plain": [
       "0      25.0\n",
       "1      30.0\n",
       "2      35.0\n",
       "3      40.0\n",
       "4    1000.0\n",
       "5      29.0\n",
       "6       NaN\n",
       "7      30.0\n",
       "Name: age, dtype: float64"
      ]
     },
     "execution_count": 6,
     "metadata": {},
     "output_type": "execute_result"
    }
   ],
   "source": [
    "df.age = df.age.apply(lambda x: w2n.word_to_num(x) if isinstance(x, str) else x)\n",
    "df.age"
   ]
  },
  {
   "cell_type": "code",
   "execution_count": 7,
   "id": "17e15f5d-e323-4510-9fa1-10a81666de18",
   "metadata": {},
   "outputs": [
    {
     "data": {
      "text/plain": [
       "0    25.0\n",
       "1    30.0\n",
       "2    35.0\n",
       "3    40.0\n",
       "4     0.0\n",
       "5    29.0\n",
       "6     NaN\n",
       "7    30.0\n",
       "Name: age, dtype: float64"
      ]
     },
     "execution_count": 7,
     "metadata": {},
     "output_type": "execute_result"
    }
   ],
   "source": [
    "df.age = df.age.apply(lambda x: 0 if (x < 0 or x > 100) else x) # remove outliers\n",
    "df.age"
   ]
  },
  {
   "cell_type": "code",
   "execution_count": 8,
   "id": "59931d58-8d9d-40d2-8ccc-3b1a59a361ea",
   "metadata": {},
   "outputs": [
    {
     "data": {
      "text/plain": [
       "0    25\n",
       "1    30\n",
       "2    35\n",
       "3    40\n",
       "4    27\n",
       "5    29\n",
       "6    27\n",
       "7    30\n",
       "Name: age, dtype: int64"
      ]
     },
     "execution_count": 8,
     "metadata": {},
     "output_type": "execute_result"
    }
   ],
   "source": [
    "mean_age = df.age.mean()\n",
    "df.age = df.age.fillna(mean_age) # NaN values would be replased to their mean\n",
    "df.age = df.age.replace(0, mean_age) # replace 0 to mean too\n",
    "df.age = df.age.astype(int)\n",
    "df.age"
   ]
  },
  {
   "cell_type": "markdown",
   "id": "0ef98161-e518-4640-ab05-fe4234777c75",
   "metadata": {},
   "source": [
    "### Modifying a city column"
   ]
  },
  {
   "cell_type": "code",
   "execution_count": 9,
   "id": "8b3f521a-40e2-4190-a9e2-6b9617414d26",
   "metadata": {},
   "outputs": [
    {
     "data": {
      "text/plain": [
       "0       New York\n",
       "1    Los Angeles\n",
       "2       New York\n",
       "3        Chicago\n",
       "4        Chicago\n",
       "5         Boston\n",
       "6         Boston\n",
       "7    Los Angeles\n",
       "Name: city, dtype: object"
      ]
     },
     "execution_count": 9,
     "metadata": {},
     "output_type": "execute_result"
    }
   ],
   "source": [
    "df.city = df.city.str.title() # We use a title() here, not capitalize(), because we need to capitalize all letters in cells\n",
    "df.city = df.city.where(df.name.apply(lambda x: not isinstance(x, str) or len(x) <= 30), pd.NA) # Check for max len using \"apply\" and \"where\"\n",
    "df.city"
   ]
  },
  {
   "cell_type": "markdown",
   "id": "ca29e4c8-0cca-4cd2-9252-1b008be9fb6b",
   "metadata": {},
   "source": [
    "### Modify a temperature_F column"
   ]
  },
  {
   "cell_type": "code",
   "execution_count": 10,
   "id": "4572f793-aa6b-49d4-8663-b1fe4c44db57",
   "metadata": {},
   "outputs": [
    {
     "data": {
      "text/plain": [
       "0    35.000000\n",
       "1    38.888889\n",
       "2    31.666667\n",
       "3    25.555556\n",
       "4    28.888889\n",
       "5    36.666667\n",
       "6    35.000000\n",
       "7    38.888889\n",
       "Name: temperature_C, dtype: float64"
      ]
     },
     "execution_count": 10,
     "metadata": {},
     "output_type": "execute_result"
    }
   ],
   "source": [
    "df.temperature_F = df.temperature_F.fillna(df.temperature_F.median()) # NaN would be a median values\n",
    "df.temperature_F = (df.temperature_F - 32) * 5 / 9 # Convert from F to C\n",
    "df.rename(columns={'temperature_F': 'temperature_C'}, inplace=True) # Rename column\n",
    "df.temperature_C"
   ]
  },
  {
   "cell_type": "markdown",
   "id": "4ac43178-083b-4b88-822b-d168e76dc420",
   "metadata": {},
   "source": [
    "### Convert a NaN values in income"
   ]
  },
  {
   "cell_type": "code",
   "execution_count": 11,
   "id": "91c1cb25-7033-4bbf-b9dd-0755e62ac4f4",
   "metadata": {},
   "outputs": [
    {
     "data": {
      "text/plain": [
       "0    55000.000000\n",
       "1    60000.000000\n",
       "2    56666.666667\n",
       "3    70000.000000\n",
       "4    45000.000000\n",
       "5    50000.000000\n",
       "6    56666.666667\n",
       "7    60000.000000\n",
       "Name: income, dtype: float64"
      ]
     },
     "execution_count": 11,
     "metadata": {},
     "output_type": "execute_result"
    }
   ],
   "source": [
    "df.income = df.income.fillna(df.income.mean())\n",
    "df.income"
   ]
  },
  {
   "cell_type": "markdown",
   "id": "6fc1a92d-3ace-4494-b70b-fa7cdc5000aa",
   "metadata": {},
   "source": [
    "### Working with date column"
   ]
  },
  {
   "cell_type": "code",
   "execution_count": 12,
   "id": "75079f63-abe2-4a6a-827d-9779984245fa",
   "metadata": {},
   "outputs": [
    {
     "data": {
      "text/plain": [
       "0    2021-06-15\n",
       "1    15/06/2021\n",
       "2    2021/06/16\n",
       "3    06-17-2021\n",
       "4           NaN\n",
       "5    2021-06-19\n",
       "6    2021-06-20\n",
       "7    15/06/2021\n",
       "Name: date, dtype: object"
      ]
     },
     "execution_count": 12,
     "metadata": {},
     "output_type": "execute_result"
    }
   ],
   "source": [
    "df.date"
   ]
  },
  {
   "cell_type": "markdown",
   "id": "aa8c678c-0859-45a5-8f4a-a3e53b448388",
   "metadata": {},
   "source": [
    "#### As we have a huge range of dif format date, it is needed to convert them all, so I applied three different funcoitns to convert them to on format."
   ]
  },
  {
   "cell_type": "code",
   "execution_count": 13,
   "id": "0003f8e4-7a07-4961-8710-1753219da7bc",
   "metadata": {},
   "outputs": [
    {
     "data": {
      "text/plain": [
       "0    2021-06-15\n",
       "1    2021-06-15\n",
       "2    2021-06-16\n",
       "3    2021-06-17\n",
       "4           NaN\n",
       "5    2021-06-19\n",
       "6    2021-06-20\n",
       "7    2021-06-15\n",
       "Name: date, dtype: object"
      ]
     },
     "execution_count": 13,
     "metadata": {},
     "output_type": "execute_result"
    }
   ],
   "source": [
    "df.date = pd.to_datetime(df.date, format='%d/%m/%Y', errors='coerce').dt.strftime('%Y-%m-%d').fillna(df.date)\n",
    "df.date = pd.to_datetime(df.date, format='%m-%d-%Y', errors='coerce').dt.strftime('%Y-%m-%d').fillna(df.date)\n",
    "df.date = pd.to_datetime(df.date, format='%Y/%m/%d', errors='coerce').dt.strftime('%Y-%m-%d').fillna(df.date)\n",
    "df.date"
   ]
  },
  {
   "cell_type": "code",
   "execution_count": 14,
   "id": "fde071a7-2e2b-40f1-a304-e996d132ac6e",
   "metadata": {},
   "outputs": [],
   "source": [
    "### Converting date + fill NaN values"
   ]
  },
  {
   "cell_type": "code",
   "execution_count": 15,
   "id": "077bc94e-9a50-4186-920b-34e1e6966e78",
   "metadata": {},
   "outputs": [
    {
     "data": {
      "text/plain": [
       "0   2021-06-15\n",
       "1   2021-06-15\n",
       "2   2021-06-16\n",
       "3   2021-06-17\n",
       "4   2021-01-01\n",
       "5   2021-06-19\n",
       "6   2021-06-20\n",
       "7   2021-06-15\n",
       "Name: date, dtype: datetime64[ns]"
      ]
     },
     "execution_count": 15,
     "metadata": {},
     "output_type": "execute_result"
    }
   ],
   "source": [
    "df.date = pd.to_datetime(df.date) # Convert to date dtype to avoid time date in next line\n",
    "df.date = df.date.fillna(pd.Timestamp('2021-01-01')).dt.date # Take a constant to **NaN** values\n",
    "df.date = pd.to_datetime(df.date) # Convert again, because previous line would not save date type\n",
    "df.date"
   ]
  },
  {
   "cell_type": "markdown",
   "id": "027c6bdb-9d83-466b-8853-53bff1c728c8",
   "metadata": {},
   "source": [
    "### Remove duplicates"
   ]
  },
  {
   "cell_type": "code",
   "execution_count": 19,
   "id": "6e677b8e-87ab-4c62-a286-ffa070176342",
   "metadata": {},
   "outputs": [],
   "source": [
    "df = df.drop_duplicates()"
   ]
  },
  {
   "cell_type": "markdown",
   "id": "0e5a243a-ac48-4be3-a79e-8bfcbe20ab39",
   "metadata": {},
   "source": [
    "### Display float only 2 numbers after comma"
   ]
  },
  {
   "cell_type": "code",
   "execution_count": 20,
   "id": "7ed54025-4526-473f-ba0b-4183ed39258f",
   "metadata": {},
   "outputs": [],
   "source": [
    "pd.options.display.float_format = '{:.2f}'.format"
   ]
  },
  {
   "cell_type": "markdown",
   "id": "4b82c953-9b05-4fbf-8dda-f4d04cdd65b6",
   "metadata": {},
   "source": [
    "### Results:"
   ]
  },
  {
   "cell_type": "code",
   "execution_count": 21,
   "id": "1d8eb29c-fa5a-4199-ae89-fe3c38cf77d5",
   "metadata": {},
   "outputs": [
    {
     "data": {
      "text/html": [
       "<div>\n",
       "<style scoped>\n",
       "    .dataframe tbody tr th:only-of-type {\n",
       "        vertical-align: middle;\n",
       "    }\n",
       "\n",
       "    .dataframe tbody tr th {\n",
       "        vertical-align: top;\n",
       "    }\n",
       "\n",
       "    .dataframe thead th {\n",
       "        text-align: right;\n",
       "    }\n",
       "</style>\n",
       "<table border=\"1\" class=\"dataframe\">\n",
       "  <thead>\n",
       "    <tr style=\"text-align: right;\">\n",
       "      <th></th>\n",
       "      <th>name</th>\n",
       "      <th>age</th>\n",
       "      <th>city</th>\n",
       "      <th>temperature_F</th>\n",
       "      <th>income</th>\n",
       "      <th>date</th>\n",
       "    </tr>\n",
       "  </thead>\n",
       "  <tbody>\n",
       "    <tr>\n",
       "      <th>0</th>\n",
       "      <td>Alice</td>\n",
       "      <td>25</td>\n",
       "      <td>New York</td>\n",
       "      <td>95.00</td>\n",
       "      <td>55000.00</td>\n",
       "      <td>2021-06-15</td>\n",
       "    </tr>\n",
       "    <tr>\n",
       "      <th>1</th>\n",
       "      <td>Bob</td>\n",
       "      <td>thirty</td>\n",
       "      <td>Los Angeles</td>\n",
       "      <td>102.00</td>\n",
       "      <td>60000.00</td>\n",
       "      <td>15/06/2021</td>\n",
       "    </tr>\n",
       "    <tr>\n",
       "      <th>2</th>\n",
       "      <td>Carol</td>\n",
       "      <td>35</td>\n",
       "      <td>new york</td>\n",
       "      <td>89.00</td>\n",
       "      <td>NaN</td>\n",
       "      <td>2021/06/16</td>\n",
       "    </tr>\n",
       "    <tr>\n",
       "      <th>3</th>\n",
       "      <td>bob</td>\n",
       "      <td>40</td>\n",
       "      <td>Chicago</td>\n",
       "      <td>78.00</td>\n",
       "      <td>70000.00</td>\n",
       "      <td>06-17-2021</td>\n",
       "    </tr>\n",
       "    <tr>\n",
       "      <th>4</th>\n",
       "      <td>Alice</td>\n",
       "      <td>1000</td>\n",
       "      <td>Chicago</td>\n",
       "      <td>84.00</td>\n",
       "      <td>45000.00</td>\n",
       "      <td>NaN</td>\n",
       "    </tr>\n",
       "    <tr>\n",
       "      <th>5</th>\n",
       "      <td>Eve</td>\n",
       "      <td>29</td>\n",
       "      <td>Boston</td>\n",
       "      <td>98.00</td>\n",
       "      <td>50000.00</td>\n",
       "      <td>2021-06-19</td>\n",
       "    </tr>\n",
       "    <tr>\n",
       "      <th>6</th>\n",
       "      <td>NaN</td>\n",
       "      <td>NaN</td>\n",
       "      <td>Boston</td>\n",
       "      <td>NaN</td>\n",
       "      <td>NaN</td>\n",
       "      <td>2021-06-20</td>\n",
       "    </tr>\n",
       "    <tr>\n",
       "      <th>7</th>\n",
       "      <td>Bob</td>\n",
       "      <td>thirty</td>\n",
       "      <td>Los Angeles</td>\n",
       "      <td>102.00</td>\n",
       "      <td>60000.00</td>\n",
       "      <td>15/06/2021</td>\n",
       "    </tr>\n",
       "  </tbody>\n",
       "</table>\n",
       "</div>"
      ],
      "text/plain": [
       "    name     age         city  temperature_F   income        date\n",
       "0  Alice      25     New York          95.00 55000.00  2021-06-15\n",
       "1    Bob  thirty  Los Angeles         102.00 60000.00  15/06/2021\n",
       "2  Carol      35     new york          89.00      NaN  2021/06/16\n",
       "3    bob      40      Chicago          78.00 70000.00  06-17-2021\n",
       "4  Alice    1000      Chicago          84.00 45000.00         NaN\n",
       "5    Eve      29       Boston          98.00 50000.00  2021-06-19\n",
       "6    NaN     NaN       Boston            NaN      NaN  2021-06-20\n",
       "7    Bob  thirty  Los Angeles         102.00 60000.00  15/06/2021"
      ]
     },
     "execution_count": 21,
     "metadata": {},
     "output_type": "execute_result"
    }
   ],
   "source": [
    "before_df"
   ]
  },
  {
   "cell_type": "code",
   "execution_count": 22,
   "id": "f5e98171-3ff8-4d66-9daa-bfb02500a3f4",
   "metadata": {},
   "outputs": [
    {
     "data": {
      "text/html": [
       "<div>\n",
       "<style scoped>\n",
       "    .dataframe tbody tr th:only-of-type {\n",
       "        vertical-align: middle;\n",
       "    }\n",
       "\n",
       "    .dataframe tbody tr th {\n",
       "        vertical-align: top;\n",
       "    }\n",
       "\n",
       "    .dataframe thead th {\n",
       "        text-align: right;\n",
       "    }\n",
       "</style>\n",
       "<table border=\"1\" class=\"dataframe\">\n",
       "  <thead>\n",
       "    <tr style=\"text-align: right;\">\n",
       "      <th></th>\n",
       "      <th>name</th>\n",
       "      <th>age</th>\n",
       "      <th>city</th>\n",
       "      <th>temperature_C</th>\n",
       "      <th>income</th>\n",
       "      <th>date</th>\n",
       "    </tr>\n",
       "  </thead>\n",
       "  <tbody>\n",
       "    <tr>\n",
       "      <th>0</th>\n",
       "      <td>Alice</td>\n",
       "      <td>25</td>\n",
       "      <td>New York</td>\n",
       "      <td>35.00</td>\n",
       "      <td>55000.00</td>\n",
       "      <td>2021-06-15</td>\n",
       "    </tr>\n",
       "    <tr>\n",
       "      <th>1</th>\n",
       "      <td>Bob</td>\n",
       "      <td>30</td>\n",
       "      <td>Los Angeles</td>\n",
       "      <td>38.89</td>\n",
       "      <td>60000.00</td>\n",
       "      <td>2021-06-15</td>\n",
       "    </tr>\n",
       "    <tr>\n",
       "      <th>2</th>\n",
       "      <td>Carol</td>\n",
       "      <td>35</td>\n",
       "      <td>New York</td>\n",
       "      <td>31.67</td>\n",
       "      <td>56666.67</td>\n",
       "      <td>2021-06-16</td>\n",
       "    </tr>\n",
       "    <tr>\n",
       "      <th>3</th>\n",
       "      <td>Bob</td>\n",
       "      <td>40</td>\n",
       "      <td>Chicago</td>\n",
       "      <td>25.56</td>\n",
       "      <td>70000.00</td>\n",
       "      <td>2021-06-17</td>\n",
       "    </tr>\n",
       "    <tr>\n",
       "      <th>4</th>\n",
       "      <td>Alice</td>\n",
       "      <td>27</td>\n",
       "      <td>Chicago</td>\n",
       "      <td>28.89</td>\n",
       "      <td>45000.00</td>\n",
       "      <td>2021-01-01</td>\n",
       "    </tr>\n",
       "    <tr>\n",
       "      <th>5</th>\n",
       "      <td>Eve</td>\n",
       "      <td>29</td>\n",
       "      <td>Boston</td>\n",
       "      <td>36.67</td>\n",
       "      <td>50000.00</td>\n",
       "      <td>2021-06-19</td>\n",
       "    </tr>\n",
       "    <tr>\n",
       "      <th>6</th>\n",
       "      <td>Anonymous</td>\n",
       "      <td>27</td>\n",
       "      <td>Boston</td>\n",
       "      <td>35.00</td>\n",
       "      <td>56666.67</td>\n",
       "      <td>2021-06-20</td>\n",
       "    </tr>\n",
       "  </tbody>\n",
       "</table>\n",
       "</div>"
      ],
      "text/plain": [
       "        name  age         city  temperature_C   income       date\n",
       "0      Alice   25     New York          35.00 55000.00 2021-06-15\n",
       "1        Bob   30  Los Angeles          38.89 60000.00 2021-06-15\n",
       "2      Carol   35     New York          31.67 56666.67 2021-06-16\n",
       "3        Bob   40      Chicago          25.56 70000.00 2021-06-17\n",
       "4      Alice   27      Chicago          28.89 45000.00 2021-01-01\n",
       "5        Eve   29       Boston          36.67 50000.00 2021-06-19\n",
       "6  Anonymous   27       Boston          35.00 56666.67 2021-06-20"
      ]
     },
     "execution_count": 22,
     "metadata": {},
     "output_type": "execute_result"
    }
   ],
   "source": [
    "df"
   ]
  }
 ],
 "metadata": {
  "kernelspec": {
   "display_name": "Python 3 (ipykernel)",
   "language": "python",
   "name": "python3"
  },
  "language_info": {
   "codemirror_mode": {
    "name": "ipython",
    "version": 3
   },
   "file_extension": ".py",
   "mimetype": "text/x-python",
   "name": "python",
   "nbconvert_exporter": "python",
   "pygments_lexer": "ipython3",
   "version": "3.12.5"
  }
 },
 "nbformat": 4,
 "nbformat_minor": 5
}
